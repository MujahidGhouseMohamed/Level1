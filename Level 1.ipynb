{
 "cells": [
  {
   "cell_type": "code",
   "execution_count": 1,
   "id": "eb2f2d78",
   "metadata": {},
   "outputs": [
    {
     "name": "stdout",
     "output_type": "stream",
     "text": [
      "Hello World\n"
     ]
    }
   ],
   "source": [
    "#1) Display “Hello World” in your output screen.\n",
    "print(\"Hello World\")"
   ]
  },
  {
   "cell_type": "code",
   "execution_count": 2,
   "id": "8b77cb02",
   "metadata": {},
   "outputs": [
    {
     "name": "stdout",
     "output_type": "stream",
     "text": [
      "Enter the first number: 4\n",
      "Enter the second number: 8\n",
      "The sum of 4 and 8 is: 12\n"
     ]
    }
   ],
   "source": [
    "#2) Get the input from the user and perform addition of two numbers\n",
    "num1 = int(input(\"Enter the first number: \"))\n",
    "num2 = int(input(\"Enter the second number: \"))\n",
    "\n",
    "\n",
    "result = num1 + num2\n",
    "\n",
    "\n",
    "print(\"The sum of\", num1, \"and\", num2, \"is:\", result)\n"
   ]
  },
  {
   "cell_type": "code",
   "execution_count": 4,
   "id": "3175779a",
   "metadata": {},
   "outputs": [
    {
     "name": "stdout",
     "output_type": "stream",
     "text": [
      "Enter the value of a: 4\n",
      "Enter the value of b: 82\n",
      "After swapping,The value of a is: 82\n",
      "After swapping, the value of b is: 4\n"
     ]
    }
   ],
   "source": [
    "#3) swap two variables without temp variable\n",
    "\n",
    "a = int(input(\"Enter the value of a: \"))\n",
    "b = int(input(\"Enter the value of b: \"))\n",
    "\n",
    "a, b = b, a\n",
    "\n",
    "print(\"After swapping,The value of a is:\", a)\n",
    "print(\"After swapping, the value of b is:\", b)\n"
   ]
  },
  {
   "cell_type": "code",
   "execution_count": 5,
   "id": "4b9ff08d",
   "metadata": {},
   "outputs": [
    {
     "name": "stdout",
     "output_type": "stream",
     "text": [
      "Enter the distance in kilometers: 27\n",
      "The distance in miles is: 16.777017\n"
     ]
    }
   ],
   "source": [
    "#4) convert the entered kilometres (Conversion Factor= 0.621371)\n",
    "\n",
    "km = float(input(\"Enter the distance in kilometers: \"))\n",
    "\n",
    "conversion = 0.621371\n",
    "\n",
    "miles = km * conversion\n",
    "\n",
    "print(\"The distance in miles is:\", miles)\n"
   ]
  },
  {
   "cell_type": "code",
   "execution_count": 6,
   "id": "a486e286",
   "metadata": {},
   "outputs": [
    {
     "name": "stdout",
     "output_type": "stream",
     "text": [
      "Enter a number: 94\n",
      "The number is positive\n"
     ]
    }
   ],
   "source": [
    "#5) check whether the given number is positive, negative or 0\n",
    "\n",
    "num = int(input(\"Enter a number: \"))\n",
    "\n",
    "\n",
    "if num > 0:\n",
    "    print(\"The number is positive\")\n",
    "    \n",
    "elif num < 0:\n",
    "    print(\"The number is negative\")\n",
    "    \n",
    "else:\n",
    "    print(\"The number is zero\")\n"
   ]
  },
  {
   "cell_type": "code",
   "execution_count": 7,
   "id": "d1dd2dee",
   "metadata": {},
   "outputs": [
    {
     "name": "stdout",
     "output_type": "stream",
     "text": [
      "Enter a year: 2024\n",
      "2024 is a leap year\n"
     ]
    }
   ],
   "source": [
    "#6)verify that the given year is a leap year\n",
    "\n",
    "year = int(input(\"Enter a year: \"))\n",
    "\n",
    "if (year % 4 == 0 and year % 100 != 0) or year % 400 == 0:\n",
    "    print(year, \"is a leap year\")\n",
    "else:\n",
    "    print(year, \"is not a leap year\")\n"
   ]
  },
  {
   "cell_type": "code",
   "execution_count": 2,
   "id": "b3c8c309",
   "metadata": {},
   "outputs": [
    {
     "name": "stdout",
     "output_type": "stream",
     "text": [
      "Enter the First Numnber: 3\n",
      "Enter the Last Number: 19\n",
      "Prime numbers Between the interval 3 to 19 are:\n",
      "3\n",
      "5\n",
      "7\n",
      "11\n",
      "13\n",
      "17\n",
      "19\n"
     ]
    }
   ],
   "source": [
    "#7)display the prime numbers within the given interval\n",
    "\n",
    "start = int(input(\"Enter the First Numnber: \"))\n",
    "end = int(input(\"Enter the Last Number: \"))\n",
    "\n",
    "\n",
    "print(\"Prime numbers Between the interval\", start, \"to\", end, \"are:\")\n",
    "\n",
    "for i in range(start, end + 1):\n",
    "    if i > 1:\n",
    "        for j in range(2, int(i ** 0.5) + 1):\n",
    "            if i % j == 0:\n",
    "                break\n",
    "        else:\n",
    "            print(i)\n",
    "\n"
   ]
  },
  {
   "cell_type": "code",
   "execution_count": 4,
   "id": "d0940ca2",
   "metadata": {},
   "outputs": [
    {
     "name": "stdout",
     "output_type": "stream",
     "text": [
      "Enter the number of terms: 5\n",
      "The Fibonacci sequence up to the 5 th term:\n",
      "0\n",
      "1\n",
      "1\n",
      "2\n",
      "3\n"
     ]
    }
   ],
   "source": [
    "#8) display the Fibonacci sequence up to n-th term\n",
    "\n",
    "n = int(input(\"Enter the number of terms: \"))\n",
    "\n",
    "\n",
    "fibancci = [0, 1]\n",
    "\n",
    "\n",
    "for i in range(2, n):\n",
    "    nextnum = fibancci[i-1] + fibancci[i-2]\n",
    "    fibancci.append(nextnum)\n",
    "\n",
    "\n",
    "print(\"The Fibonacci sequence up to the\", n, \"th term:\")\n",
    "for j in fibancci:\n",
    "    print(j)\n"
   ]
  },
  {
   "cell_type": "code",
   "execution_count": 6,
   "id": "e79562c1",
   "metadata": {},
   "outputs": [
    {
     "name": "stdout",
     "output_type": "stream",
     "text": [
      "Enter a number: 8\n",
      "8 is an Armstrong number\n"
     ]
    }
   ],
   "source": [
    "#9) check if the number is an Armstrong number or not\n",
    "\n",
    "num = int(input(\"Enter a number: \"))\n",
    "\n",
    "\n",
    "numOfdigits = len(str(num))\n",
    "\n",
    "cubes = 0\n",
    "temp = num\n",
    "\n",
    "while temp > 0:\n",
    "    digit = temp % 10\n",
    "    cubes += digit ** numOfdigits\n",
    "    temp //= 10\n",
    "\n",
    "\n",
    "if num == cubes:\n",
    "    print(num, \"is an Armstrong number\")\n",
    "else:\n",
    "    print(num, \"is not an Armstrong number\")\n"
   ]
  },
  {
   "cell_type": "code",
   "execution_count": 7,
   "id": "de8ddbd7",
   "metadata": {},
   "outputs": [
    {
     "name": "stdout",
     "output_type": "stream",
     "text": [
      "Enter the value of 'n': 15\n",
      "The sum of natural numbers up to 15 is: 120\n"
     ]
    }
   ],
   "source": [
    "#10) Find the Sum of natural numbers up to n-th term\n",
    "\n",
    "n = int(input(\"Enter the value of 'n': \"))\n",
    "\n",
    "\n",
    "total = 0\n",
    "\n",
    "for i in range(1, n + 1):\n",
    "    total += i\n",
    "\n",
    "print(\"The sum of natural numbers up to\", n, \"is:\", total)\n"
   ]
  },
  {
   "cell_type": "code",
   "execution_count": 8,
   "id": "4057b62a",
   "metadata": {},
   "outputs": [
    {
     "name": "stdout",
     "output_type": "stream",
     "text": [
      "Enter the number of rows: 4\n",
      "*\n",
      "**\n",
      "***\n",
      "****\n"
     ]
    }
   ],
   "source": [
    "#11) Write a function called show_stars(rows). If rows are 5, it should print the following:\n",
    "\n",
    "\"\"\" *\n",
    "    **\n",
    "    ***\n",
    "    ****\n",
    "    ***** \n",
    "\"\"\"\n",
    "\n",
    "n = int(input(\"Enter the number of rows: \"))\n",
    "\n",
    "for i in range(1, n + 1):\n",
    "    print('*' * i)\n",
    "\n",
    "   "
   ]
  },
  {
   "cell_type": "code",
   "execution_count": 9,
   "id": "85826f9b",
   "metadata": {},
   "outputs": [
    {
     "name": "stdout",
     "output_type": "stream",
     "text": [
      "Enter a string: Hello World\n",
      "Enter the number of characters to remove: 5\n",
      "New string:  World\n"
     ]
    }
   ],
   "source": [
    "#12) Write a program to remove characters from a string starting from zero up to n and return  a new string.\n",
    "\n",
    "string = input(\"Enter a string: \")\n",
    "n = int(input(\"Enter the number of characters to remove: \"))\n",
    "\n",
    "new_string = string[n:]\n",
    "\n",
    "print(\"New string:\", new_string)\n"
   ]
  },
  {
   "cell_type": "code",
   "execution_count": 13,
   "id": "f93ab365",
   "metadata": {},
   "outputs": [
    {
     "name": "stdout",
     "output_type": "stream",
     "text": [
      "5\n",
      "90\n"
     ]
    }
   ],
   "source": [
    "#13) Iterate the given list of numbers and print only those numbers which are divisible by 5\n",
    "\n",
    "numbers = [5, 22,34,27, 67, 90, 78, 84]\n",
    "\n",
    "for number in numbers:\n",
    "    if number % 5 == 0:\n",
    "        print(number)\n"
   ]
  },
  {
   "cell_type": "code",
   "execution_count": 14,
   "id": "b9bdbcdf",
   "metadata": {},
   "outputs": [
    {
     "name": "stdout",
     "output_type": "stream",
     "text": [
      "Enter a string: Hi Hi Hi ....\n",
      "The substring 'Hi' appears 3  times in the given string.\n"
     ]
    }
   ],
   "source": [
    "#14) Write a program to find how many times substring “Hi” appears in the given string\n",
    "\n",
    "string = input(\"Enter a string: \")\n",
    "count = string.count(\"Hi\")\n",
    "print(\"The substring 'Hi' appears\", count, \" times in the given string.\")\n"
   ]
  },
  {
   "cell_type": "code",
   "execution_count": 17,
   "id": "13f3b2b3",
   "metadata": {},
   "outputs": [
    {
     "name": "stdout",
     "output_type": "stream",
     "text": [
      "Enter the number of rows: 5\n",
      "1 \n",
      "2 2 \n",
      "3 3 3 \n",
      "4 4 4 4 \n",
      "5 5 5 5 5 \n"
     ]
    }
   ],
   "source": [
    "#15) Print the following pattern\n",
    "\"\"\"\"\n",
    " 1 \n",
    " 2 2 \n",
    " 3 3 3 \n",
    " 4 4 4 4 \n",
    " 5 5 5 5 5\n",
    "\"\"\"\n",
    "\n",
    "n = int(input(\"Enter the number of rows: \"))\n",
    "\n",
    "for i in range(1, n+1):\n",
    "    for j in range(i):\n",
    "        print(i, end=\" \")\n",
    "    print()\n"
   ]
  },
  {
   "cell_type": "code",
   "execution_count": 19,
   "id": "652dd396",
   "metadata": {},
   "outputs": [
    {
     "name": "stdout",
     "output_type": "stream",
     "text": [
      "Enter a number: 545\n",
      "545 is a palindrome number\n"
     ]
    }
   ],
   "source": [
    "#  16) Write a program to check if the given number is a palindrome number.\n",
    "# (A palindrome number is a number that is same after reverse. For example, 545, is the  palindrome numbers)\n",
    "\n",
    "num = int(input(\"Enter a number: \"))\n",
    "number_str = str(num)\n",
    "reverse = number_str[::-1]\n",
    "\n",
    "if number_str == reverse:\n",
    "    print(num, \"is a palindrome number\")\n",
    "else:\n",
    "    print(num, \"is not a palindrome number\")\n"
   ]
  },
  {
   "cell_type": "code",
   "execution_count": 23,
   "id": "8489c58f",
   "metadata": {},
   "outputs": [
    {
     "name": "stdout",
     "output_type": "stream",
     "text": [
      "Updated list: [5, 2, 3, 4, 1]\n"
     ]
    }
   ],
   "source": [
    "#17) Python program to interchange first and last elements in a list\n",
    "\n",
    "myList = [1, 2, 3, 4, 5]\n",
    "\n",
    "myList[0], myList[-1] = myList[-1], myList[0]\n",
    "\n",
    "\n",
    "print(\"Updated list:\", myList)\n"
   ]
  },
  {
   "cell_type": "code",
   "execution_count": 28,
   "id": "bd4e2b11",
   "metadata": {},
   "outputs": [
    {
     "name": "stdout",
     "output_type": "stream",
     "text": [
      "[19, 65, 23, 90]\n"
     ]
    }
   ],
   "source": [
    "#18) Python program to swap two elements in a list\n",
    "\n",
    "def interchange(list, pos1, pos2):\n",
    "\n",
    " list[pos1], list[pos2] = list[pos2], list[pos1]\n",
    " return list\n",
    "\n",
    "\n",
    "List = [23, 65, 19, 90]\n",
    "ps1, ps2 = 1, 3\n",
    "\n",
    "print(interchange(List, ps1-1, ps2-1))\n"
   ]
  },
  {
   "cell_type": "code",
   "execution_count": 1,
   "id": "b3d47dc6",
   "metadata": {},
   "outputs": [
    {
     "name": "stdout",
     "output_type": "stream",
     "text": [
      "Length of the list: 5\n",
      "Length of the list: 5\n",
      "Length of the list: 15\n"
     ]
    }
   ],
   "source": [
    "#19) Python  Ways to find length of list\n",
    "\n",
    "#Using the len() function:\n",
    "\n",
    "Mylist = [1, 2, 3, 4, 5]\n",
    "length = len(Mylist)\n",
    "print(\"Length of the list:\", length)\n",
    "\n",
    "#Using a loop :\n",
    "\n",
    "Mylist = [1, 2, 3, 4, 5]\n",
    "count = 0\n",
    "for i in Mylist:\n",
    "    count += 1\n",
    "print(\"Length of the list:\", count)\n",
    "\n",
    "#Conversion of  list to a string\n",
    "\n",
    "Mylist = [1, 2, 3, 4, 5]\n",
    "length = len(str(Mylist))\n",
    "print(\"Length of the list:\", length)\n"
   ]
  },
  {
   "cell_type": "code",
   "execution_count": 4,
   "id": "df80b335",
   "metadata": {},
   "outputs": [
    {
     "name": "stdout",
     "output_type": "stream",
     "text": [
      "The maximum number : 20\n"
     ]
    }
   ],
   "source": [
    "#20) Maximum of two numbers in Python\n",
    "num = [10, 20]\n",
    "maximum = max(num)\n",
    "print(\"The maximum number :\", maximum)\n"
   ]
  },
  {
   "cell_type": "code",
   "execution_count": 5,
   "id": "bac7d466",
   "metadata": {},
   "outputs": [
    {
     "name": "stdout",
     "output_type": "stream",
     "text": [
      "The maximum number : 10\n"
     ]
    }
   ],
   "source": [
    "#21) Minimum of two numbers in Python\n",
    "num = [10, 20]\n",
    "minimum = min(num)\n",
    "print(\"The maximum number :\", minimum)"
   ]
  },
  {
   "cell_type": "code",
   "execution_count": 8,
   "id": "0bc8f946",
   "metadata": {},
   "outputs": [
    {
     "name": "stdout",
     "output_type": "stream",
     "text": [
      "Enter a string: Python\n",
      "The string is not symmetrical.\n",
      "The string is not a palindrome.\n"
     ]
    }
   ],
   "source": [
    "#22) Python program to check whether the string is Symmetrical or Palindrome\n",
    "\n",
    "def symmetrical(input_string):\n",
    "    return input_string == input_string[::-1]\n",
    "\n",
    "\n",
    "def palindrome(input_string):\n",
    "    cleaned_string = input_string.replace(\" \", \"\").lower()\n",
    "    return symmetrical(cleaned_string)\n",
    "\n",
    "\n",
    "string = input(\"Enter a string: \")\n",
    "\n",
    "if symmetrical(string):\n",
    "    print(\"The string is symmetrical.\")\n",
    "else:\n",
    "    print(\"The string is not symmetrical.\")\n",
    "\n",
    "if palindrome(string):\n",
    "    print(\"The string is a palindrome.\")\n",
    "else:\n",
    "    print(\"The string is not a palindrome.\")\n"
   ]
  },
  {
   "cell_type": "code",
   "execution_count": 11,
   "id": "c664bba1",
   "metadata": {},
   "outputs": [
    {
     "name": "stdout",
     "output_type": "stream",
     "text": [
      "Enter a string: Hello Everyone\n",
      "Reversed string: Everyone Hello\n"
     ]
    }
   ],
   "source": [
    "#23) Reverse words in a given String in Python\n",
    "def reversedwords(input_string):\n",
    "    words = input_string.split()\n",
    "    reversed_words = words[::-1]\n",
    "    reversed_string = \" \".join(reversed_words)\n",
    "    return reversed_string\n",
    "\n",
    "\n",
    "string = input(\"Enter a string: \")\n",
    "reversed_string = reversedwords(string)\n",
    "print(\"Reversed string:\", reversed_string)\n"
   ]
  },
  {
   "cell_type": "code",
   "execution_count": 14,
   "id": "de17c2f1",
   "metadata": {},
   "outputs": [
    {
     "name": "stdout",
     "output_type": "stream",
     "text": [
      "Here we are removing 6th character of a String\n",
      "New string: Artifiial,Intelligence\n",
      "New string: Data, cience\n"
     ]
    }
   ],
   "source": [
    "#24) Ways to remove i’th character from string in Python\n",
    "\n",
    "# string slicing\n",
    "print(\"Here we are removing 6th character of a String\")\n",
    "def remove_character(string, index):\n",
    "    return string[:index] + string[index+1:]\n",
    "\n",
    "my_string = \"Artificial,Intelligence\"\n",
    "new_string = remove_character(my_string, 6)\n",
    "print(\"New string:\", new_string)\n",
    "\n",
    "# string to list\n",
    "\n",
    "def remove_character(string, index):\n",
    "    char_list = list(string)\n",
    "    del char_list[index]\n",
    "    return \"\".join(char_list)\n",
    "\n",
    "my_string = \"Data, Science\"\n",
    "new_string = remove_character(my_string, 6)\n",
    "print(\"New string:\", new_string)\n"
   ]
  },
  {
   "cell_type": "code",
   "execution_count": 17,
   "id": "e8769eb8",
   "metadata": {},
   "outputs": [
    {
     "name": "stdout",
     "output_type": "stream",
     "text": [
      "Enter a String: Hello\n",
      "The Length of Hello is 5\n"
     ]
    }
   ],
   "source": [
    "#25) Find length of a string in python\n",
    "\n",
    "str=input(\"Enter a String: \")\n",
    "length=len(str)\n",
    "print(\"The Length of\",str,\"is\",length)"
   ]
  },
  {
   "cell_type": "code",
   "execution_count": 22,
   "id": "3234777a",
   "metadata": {},
   "outputs": [
    {
     "name": "stdout",
     "output_type": "stream",
     "text": [
      "Enter a String: Data Engineer\n",
      "aaEgne\n"
     ]
    }
   ],
   "source": [
    "#26) Python program to print even length words in a string\n",
    "\n",
    "str=input(\"Enter a String: \")\n",
    "new_str=str[1::2]\n",
    "print(new_str)"
   ]
  },
  {
   "cell_type": "code",
   "execution_count": 24,
   "id": "c59361a1",
   "metadata": {},
   "outputs": [
    {
     "name": "stdout",
     "output_type": "stream",
     "text": [
      "Size of the tuple: 5\n"
     ]
    }
   ],
   "source": [
    "#27) Python program to Find the size of a Tuple\n",
    "\n",
    "Mytuple = (6, 8, 2, 4, 5)\n",
    "size = len(Mytuple)\n",
    "print(\"Size of the tuple:\", size)\n"
   ]
  },
  {
   "cell_type": "code",
   "execution_count": 28,
   "id": "5d80ecf3",
   "metadata": {},
   "outputs": [
    {
     "name": "stdout",
     "output_type": "stream",
     "text": [
      "Maximum 4 elements: [7, 9, 10, 12]\n",
      "Minimum 4 elements: [1, 3, 4, 5]\n"
     ]
    }
   ],
   "source": [
    "#28) Python – Maximum and Minimum K elements in Tuple\n",
    "\n",
    "def to_find_max_and_min(Mytuple, k):\n",
    "    maximum = sorted(Mytuple)[-k:]\n",
    "    minimum = sorted(Mytuple)[:k]\n",
    "    return maximum, minimum\n",
    "\n",
    "Mytuple = (5,3,6,4,1,9,7,10,12)\n",
    "k = 4\n",
    "maximum, minimum = to_find_max_and_min(Mytuple, k)\n",
    "\n",
    "print(\"Maximum\", k, \"elements:\", maximum)\n",
    "print(\"Minimum\", k, \"elements:\", minimum )\n"
   ]
  },
  {
   "cell_type": "code",
   "execution_count": 29,
   "id": "97957a68",
   "metadata": {},
   "outputs": [
    {
     "name": "stdout",
     "output_type": "stream",
     "text": [
      "The Sum of Tuple Elements:  25\n"
     ]
    }
   ],
   "source": [
    "#29) Python – Sum of tuple elements\n",
    "\n",
    "Mytuple = (6, 8, 2, 4, 5)\n",
    "total=sum(Mytuple)\n",
    "print(\"The Sum of Tuple Elements: \",total)\n"
   ]
  },
  {
   "cell_type": "code",
   "execution_count": 37,
   "id": "983ad406",
   "metadata": {},
   "outputs": [
    {
     "name": "stdout",
     "output_type": "stream",
     "text": [
      "Row-wise element Total: [6, 15, 24]\n"
     ]
    }
   ],
   "source": [
    "#30) Python – Row-wise element Addition in Tuple Matrix\n",
    "\n",
    "def additionOfRows(matrix):\n",
    "    total = []\n",
    "    for row in matrix:\n",
    "        addition = sum(row)\n",
    "        total.append(addition)\n",
    "    return row_sums\n",
    "\n",
    "matrix = ((4,6,8), (2,5,1), (6,7,4))\n",
    "total = additionOfRows(matrix)\n",
    "\n",
    "print(\"Row-wise element Total:\", total)\n"
   ]
  },
  {
   "cell_type": "code",
   "execution_count": null,
   "id": "b3f4a238",
   "metadata": {},
   "outputs": [],
   "source": []
  }
 ],
 "metadata": {
  "kernelspec": {
   "display_name": "Python 3 (ipykernel)",
   "language": "python",
   "name": "python3"
  },
  "language_info": {
   "codemirror_mode": {
    "name": "ipython",
    "version": 3
   },
   "file_extension": ".py",
   "mimetype": "text/x-python",
   "name": "python",
   "nbconvert_exporter": "python",
   "pygments_lexer": "ipython3",
   "version": "3.11.3"
  }
 },
 "nbformat": 4,
 "nbformat_minor": 5
}
