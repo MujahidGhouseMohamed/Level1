{
 "cells": [
  {
   "cell_type": "code",
   "execution_count": 1,
   "id": "eb2f2d78",
   "metadata": {},
   "outputs": [
    {
     "name": "stdout",
     "output_type": "stream",
     "text": [
      "Hello World\n"
     ]
    }
   ],
   "source": [
    "#1) Display “Hello World” in your output screen.\n",
    "print(\"Hello World\")"
   ]
  },
  {
   "cell_type": "code",
   "execution_count": 2,
   "id": "8b77cb02",
   "metadata": {},
   "outputs": [
    {
     "name": "stdout",
     "output_type": "stream",
     "text": [
      "Enter the first number: 4\n",
      "Enter the second number: 8\n",
      "The sum of 4 and 8 is: 12\n"
     ]
    }
   ],
   "source": [
    "#2) Get the input from the user and perform addition of two numbers\n",
    "num1 = int(input(\"Enter the first number: \"))\n",
    "num2 = int(input(\"Enter the second number: \"))\n",
    "\n",
    "\n",
    "result = num1 + num2\n",
    "\n",
    "\n",
    "print(\"The sum of\", num1, \"and\", num2, \"is:\", result)\n"
   ]
  },
  {
   "cell_type": "code",
   "execution_count": 4,
   "id": "3175779a",
   "metadata": {},
   "outputs": [
    {
     "name": "stdout",
     "output_type": "stream",
     "text": [
      "Enter the value of a: 4\n",
      "Enter the value of b: 82\n",
      "After swapping,The value of a is: 82\n",
      "After swapping, the value of b is: 4\n"
     ]
    }
   ],
   "source": [
    "#3) swap two variables without temp variable\n",
    "\n",
    "a = int(input(\"Enter the value of a: \"))\n",
    "b = int(input(\"Enter the value of b: \"))\n",
    "\n",
    "a, b = b, a\n",
    "\n",
    "print(\"After swapping,The value of a is:\", a)\n",
    "print(\"After swapping, the value of b is:\", b)\n"
   ]
  },
  {
   "cell_type": "code",
   "execution_count": 5,
   "id": "4b9ff08d",
   "metadata": {},
   "outputs": [
    {
     "name": "stdout",
     "output_type": "stream",
     "text": [
      "Enter the distance in kilometers: 27\n",
      "The distance in miles is: 16.777017\n"
     ]
    }
   ],
   "source": [
    "#4) convert the entered kilometres (Conversion Factor= 0.621371)\n",
    "\n",
    "km = float(input(\"Enter the distance in kilometers: \"))\n",
    "\n",
    "conversion = 0.621371\n",
    "\n",
    "miles = km * conversion\n",
    "\n",
    "print(\"The distance in miles is:\", miles)\n"
   ]
  },
  {
   "cell_type": "code",
   "execution_count": 6,
   "id": "a486e286",
   "metadata": {},
   "outputs": [
    {
     "name": "stdout",
     "output_type": "stream",
     "text": [
      "Enter a number: 94\n",
      "The number is positive\n"
     ]
    }
   ],
   "source": [
    "#5) check whether the given number is positive, negative or 0\n",
    "\n",
    "num = int(input(\"Enter a number: \"))\n",
    "\n",
    "\n",
    "if num > 0:\n",
    "    print(\"The number is positive\")\n",
    "    \n",
    "elif num < 0:\n",
    "    print(\"The number is negative\")\n",
    "    \n",
    "else:\n",
    "    print(\"The number is zero\")\n"
   ]
  },
  {
   "cell_type": "code",
   "execution_count": 7,
   "id": "d1dd2dee",
   "metadata": {},
   "outputs": [
    {
     "name": "stdout",
     "output_type": "stream",
     "text": [
      "Enter a year: 2024\n",
      "2024 is a leap year\n"
     ]
    }
   ],
   "source": [
    "#6)verify that the given year is a leap year\n",
    "\n",
    "year = int(input(\"Enter a year: \"))\n",
    "\n",
    "if (year % 4 == 0 and year % 100 != 0) or year % 400 == 0:\n",
    "    print(year, \"is a leap year\")\n",
    "else:\n",
    "    print(year, \"is not a leap year\")\n"
   ]
  },
  {
   "cell_type": "code",
   "execution_count": 2,
   "id": "b3c8c309",
   "metadata": {},
   "outputs": [
    {
     "name": "stdout",
     "output_type": "stream",
     "text": [
      "Enter the First Numnber: 3\n",
      "Enter the Last Number: 19\n",
      "Prime numbers Between the interval 3 to 19 are:\n",
      "3\n",
      "5\n",
      "7\n",
      "11\n",
      "13\n",
      "17\n",
      "19\n"
     ]
    }
   ],
   "source": [
    "#7)display the prime numbers within the given interval\n",
    "\n",
    "start = int(input(\"Enter the First Numnber: \"))\n",
    "end = int(input(\"Enter the Last Number: \"))\n",
    "\n",
    "\n",
    "print(\"Prime numbers Between the interval\", start, \"to\", end, \"are:\")\n",
    "\n",
    "for i in range(start, end + 1):\n",
    "    if i > 1:\n",
    "        for j in range(2, int(i ** 0.5) + 1):\n",
    "            if i % j == 0:\n",
    "                break\n",
    "        else:\n",
    "            print(i)\n",
    "\n"
   ]
  },
  {
   "cell_type": "code",
   "execution_count": 4,
   "id": "d0940ca2",
   "metadata": {},
   "outputs": [
    {
     "name": "stdout",
     "output_type": "stream",
     "text": [
      "Enter the number of terms: 5\n",
      "The Fibonacci sequence up to the 5 th term:\n",
      "0\n",
      "1\n",
      "1\n",
      "2\n",
      "3\n"
     ]
    }
   ],
   "source": [
    "#8) display the Fibonacci sequence up to n-th term\n",
    "\n",
    "n = int(input(\"Enter the number of terms: \"))\n",
    "\n",
    "\n",
    "fibancci = [0, 1]\n",
    "\n",
    "\n",
    "for i in range(2, n):\n",
    "    nextnum = fibancci[i-1] + fibancci[i-2]\n",
    "    fibancci.append(nextnum)\n",
    "\n",
    "\n",
    "print(\"The Fibonacci sequence up to the\", n, \"th term:\")\n",
    "for j in fibancci:\n",
    "    print(j)\n"
   ]
  },
  {
   "cell_type": "code",
   "execution_count": 6,
   "id": "e79562c1",
   "metadata": {},
   "outputs": [
    {
     "name": "stdout",
     "output_type": "stream",
     "text": [
      "Enter a number: 8\n",
      "8 is an Armstrong number\n"
     ]
    }
   ],
   "source": [
    "#9) check if the number is an Armstrong number or not\n",
    "\n",
    "num = int(input(\"Enter a number: \"))\n",
    "\n",
    "\n",
    "numOfdigits = len(str(num))\n",
    "\n",
    "cubes = 0\n",
    "temp = num\n",
    "\n",
    "while temp > 0:\n",
    "    digit = temp % 10\n",
    "    cubes += digit ** numOfdigits\n",
    "    temp //= 10\n",
    "\n",
    "\n",
    "if num == cubes:\n",
    "    print(num, \"is an Armstrong number\")\n",
    "else:\n",
    "    print(num, \"is not an Armstrong number\")\n"
   ]
  },
  {
   "cell_type": "code",
   "execution_count": 7,
   "id": "de8ddbd7",
   "metadata": {},
   "outputs": [
    {
     "name": "stdout",
     "output_type": "stream",
     "text": [
      "Enter the value of 'n': 15\n",
      "The sum of natural numbers up to 15 is: 120\n"
     ]
    }
   ],
   "source": [
    "#10) Find the Sum of natural numbers up to n-th term\n",
    "\n",
    "n = int(input(\"Enter the value of 'n': \"))\n",
    "\n",
    "\n",
    "total = 0\n",
    "\n",
    "for i in range(1, n + 1):\n",
    "    total += i\n",
    "\n",
    "print(\"The sum of natural numbers up to\", n, \"is:\", total)\n"
   ]
  },
  {
   "cell_type": "code",
   "execution_count": 8,
   "id": "4057b62a",
   "metadata": {},
   "outputs": [
    {
     "name": "stdout",
     "output_type": "stream",
     "text": [
      "Enter the number of rows: 4\n",
      "*\n",
      "**\n",
      "***\n",
      "****\n"
     ]
    }
   ],
   "source": [
    "#11) Write a function called show_stars(rows). If rows are 5, it should print the following:\n",
    "\n",
    "\"\"\" *\n",
    "    **\n",
    "    ***\n",
    "    ****\n",
    "    ***** \n",
    "\"\"\"\n",
    "\n",
    "n = int(input(\"Enter the number of rows: \"))\n",
    "\n",
    "for i in range(1, n + 1):\n",
    "    print('*' * i)\n",
    "\n",
    "   "
   ]
  },
  {
   "cell_type": "code",
   "execution_count": 9,
   "id": "85826f9b",
   "metadata": {},
   "outputs": [
    {
     "name": "stdout",
     "output_type": "stream",
     "text": [
      "Enter a string: Hello World\n",
      "Enter the number of characters to remove: 5\n",
      "New string:  World\n"
     ]
    }
   ],
   "source": [
    "#12) Write a program to remove characters from a string starting from zero up to n and return  a new string.\n",
    "\n",
    "string = input(\"Enter a string: \")\n",
    "n = int(input(\"Enter the number of characters to remove: \"))\n",
    "\n",
    "new_string = string[n:]\n",
    "\n",
    "print(\"New string:\", new_string)\n"
   ]
  },
  {
   "cell_type": "code",
   "execution_count": 13,
   "id": "f93ab365",
   "metadata": {},
   "outputs": [
    {
     "name": "stdout",
     "output_type": "stream",
     "text": [
      "5\n",
      "90\n"
     ]
    }
   ],
   "source": [
    "#13) Iterate the given list of numbers and print only those numbers which are divisible by 5\n",
    "\n",
    "numbers = [5, 22,34,27, 67, 90, 78, 84]\n",
    "\n",
    "for number in numbers:\n",
    "    if number % 5 == 0:\n",
    "        print(number)\n"
   ]
  },
  {
   "cell_type": "code",
   "execution_count": 14,
   "id": "b9bdbcdf",
   "metadata": {},
   "outputs": [
    {
     "name": "stdout",
     "output_type": "stream",
     "text": [
      "Enter a string: Hi Hi Hi ....\n",
      "The substring 'Hi' appears 3  times in the given string.\n"
     ]
    }
   ],
   "source": [
    "#14) Write a program to find how many times substring “Hi” appears in the given string\n",
    "\n",
    "string = input(\"Enter a string: \")\n",
    "count = string.count(\"Hi\")\n",
    "print(\"The substring 'Hi' appears\", count, \" times in the given string.\")\n"
   ]
  },
  {
   "cell_type": "code",
   "execution_count": 17,
   "id": "13f3b2b3",
   "metadata": {},
   "outputs": [
    {
     "name": "stdout",
     "output_type": "stream",
     "text": [
      "Enter the number of rows: 5\n",
      "1 \n",
      "2 2 \n",
      "3 3 3 \n",
      "4 4 4 4 \n",
      "5 5 5 5 5 \n"
     ]
    }
   ],
   "source": [
    "#15) Print the following pattern\n",
    "\"\"\"\"\n",
    " 1 \n",
    " 2 2 \n",
    " 3 3 3 \n",
    " 4 4 4 4 \n",
    " 5 5 5 5 5\n",
    "\"\"\"\n",
    "\n",
    "n = int(input(\"Enter the number of rows: \"))\n",
    "\n",
    "for i in range(1, n+1):\n",
    "    for j in range(i):\n",
    "        print(i, end=\" \")\n",
    "    print()\n"
   ]
  },
  {
   "cell_type": "code",
   "execution_count": 19,
   "id": "652dd396",
   "metadata": {},
   "outputs": [
    {
     "name": "stdout",
     "output_type": "stream",
     "text": [
      "Enter a number: 545\n",
      "545 is a palindrome number\n"
     ]
    }
   ],
   "source": [
    "#  16) Write a program to check if the given number is a palindrome number.\n",
    "# (A palindrome number is a number that is same after reverse. For example, 545, is the  palindrome numbers)\n",
    "\n",
    "num = int(input(\"Enter a number: \"))\n",
    "number_str = str(num)\n",
    "reverse = number_str[::-1]\n",
    "\n",
    "if number_str == reverse:\n",
    "    print(num, \"is a palindrome number\")\n",
    "else:\n",
    "    print(num, \"is not a palindrome number\")\n"
   ]
  },
  {
   "cell_type": "code",
   "execution_count": 23,
   "id": "8489c58f",
   "metadata": {},
   "outputs": [
    {
     "name": "stdout",
     "output_type": "stream",
     "text": [
      "Updated list: [5, 2, 3, 4, 1]\n"
     ]
    }
   ],
   "source": [
    "#17) Python program to interchange first and last elements in a list\n",
    "\n",
    "myList = [1, 2, 3, 4, 5]\n",
    "\n",
    "myList[0], myList[-1] = myList[-1], myList[0]\n",
    "\n",
    "\n",
    "print(\"Updated list:\", myList)\n"
   ]
  },
  {
   "cell_type": "code",
   "execution_count": 28,
   "id": "bd4e2b11",
   "metadata": {},
   "outputs": [
    {
     "name": "stdout",
     "output_type": "stream",
     "text": [
      "[19, 65, 23, 90]\n"
     ]
    }
   ],
   "source": [
    "#18) Python program to swap two elements in a list\n",
    "\n",
    "def interchange(list, pos1, pos2):\n",
    "\n",
    " list[pos1], list[pos2] = list[pos2], list[pos1]\n",
    " return list\n",
    "\n",
    "\n",
    "List = [23, 65, 19, 90]\n",
    "ps1, ps2 = 1, 3\n",
    "\n",
    "print(interchange(List, ps1-1, ps2-1))\n"
   ]
  },
  {
   "cell_type": "code",
   "execution_count": 1,
   "id": "b3d47dc6",
   "metadata": {},
   "outputs": [
    {
     "name": "stdout",
     "output_type": "stream",
     "text": [
      "Length of the list: 5\n",
      "Length of the list: 5\n",
      "Length of the list: 15\n"
     ]
    }
   ],
   "source": [
    "#19) Python  Ways to find length of list\n",
    "\n",
    "#Using the len() function:\n",
    "\n",
    "Mylist = [1, 2, 3, 4, 5]\n",
    "length = len(Mylist)\n",
    "print(\"Length of the list:\", length)\n",
    "\n",
    "#Using a loop :\n",
    "\n",
    "Mylist = [1, 2, 3, 4, 5]\n",
    "count = 0\n",
    "for i in Mylist:\n",
    "    count += 1\n",
    "print(\"Length of the list:\", count)\n",
    "\n",
    "#Conversion of  list to a string\n",
    "\n",
    "Mylist = [1, 2, 3, 4, 5]\n",
    "length = len(str(Mylist))\n",
    "print(\"Length of the list:\", length)\n"
   ]
  },
  {
   "cell_type": "code",
   "execution_count": 4,
   "id": "df80b335",
   "metadata": {},
   "outputs": [
    {
     "name": "stdout",
     "output_type": "stream",
     "text": [
      "The maximum number : 20\n"
     ]
    }
   ],
   "source": [
    "#20) Maximum of two numbers in Python\n",
    "num = [10, 20]\n",
    "maximum = max(num)\n",
    "print(\"The maximum number :\", maximum)\n"
   ]
  },
  {
   "cell_type": "code",
   "execution_count": 5,
   "id": "bac7d466",
   "metadata": {},
   "outputs": [
    {
     "name": "stdout",
     "output_type": "stream",
     "text": [
      "The maximum number : 10\n"
     ]
    }
   ],
   "source": [
    "#21) Minimum of two numbers in Python\n",
    "num = [10, 20]\n",
    "minimum = min(num)\n",
    "print(\"The maximum number :\", minimum)"
   ]
  },
  {
   "cell_type": "code",
   "execution_count": 8,
   "id": "0bc8f946",
   "metadata": {},
   "outputs": [
    {
     "name": "stdout",
     "output_type": "stream",
     "text": [
      "Enter a string: Python\n",
      "The string is not symmetrical.\n",
      "The string is not a palindrome.\n"
     ]
    }
   ],
   "source": [
    "#22) Python program to check whether the string is Symmetrical or Palindrome\n",
    "\n",
    "def symmetrical(input_string):\n",
    "    return input_string == input_string[::-1]\n",
    "\n",
    "\n",
    "def palindrome(input_string):\n",
    "    cleaned_string = input_string.replace(\" \", \"\").lower()\n",
    "    return symmetrical(cleaned_string)\n",
    "\n",
    "\n",
    "string = input(\"Enter a string: \")\n",
    "\n",
    "if symmetrical(string):\n",
    "    print(\"The string is symmetrical.\")\n",
    "else:\n",
    "    print(\"The string is not symmetrical.\")\n",
    "\n",
    "if palindrome(string):\n",
    "    print(\"The string is a palindrome.\")\n",
    "else:\n",
    "    print(\"The string is not a palindrome.\")\n"
   ]
  },
  {
   "cell_type": "code",
   "execution_count": 11,
   "id": "c664bba1",
   "metadata": {},
   "outputs": [
    {
     "name": "stdout",
     "output_type": "stream",
     "text": [
      "Enter a string: Hello Everyone\n",
      "Reversed string: Everyone Hello\n"
     ]
    }
   ],
   "source": [
    "#23) Reverse words in a given String in Python\n",
    "def reversedwords(input_string):\n",
    "    words = input_string.split()\n",
    "    reversed_words = words[::-1]\n",
    "    reversed_string = \" \".join(reversed_words)\n",
    "    return reversed_string\n",
    "\n",
    "\n",
    "string = input(\"Enter a string: \")\n",
    "reversed_string = reversedwords(string)\n",
    "print(\"Reversed string:\", reversed_string)\n"
   ]
  },
  {
   "cell_type": "code",
   "execution_count": 14,
   "id": "de17c2f1",
   "metadata": {},
   "outputs": [
    {
     "name": "stdout",
     "output_type": "stream",
     "text": [
      "Here we are removing 6th character of a String\n",
      "New string: Artifiial,Intelligence\n",
      "New string: Data, cience\n"
     ]
    }
   ],
   "source": [
    "#24) Ways to remove i’th character from string in Python\n",
    "\n",
    "# string slicing\n",
    "print(\"Here we are removing 6th character of a String\")\n",
    "def remove_character(string, index):\n",
    "    return string[:index] + string[index+1:]\n",
    "\n",
    "my_string = \"Artificial,Intelligence\"\n",
    "new_string = remove_character(my_string, 6)\n",
    "print(\"New string:\", new_string)\n",
    "\n",
    "# string to list\n",
    "\n",
    "def remove_character(string, index):\n",
    "    char_list = list(string)\n",
    "    del char_list[index]\n",
    "    return \"\".join(char_list)\n",
    "\n",
    "my_string = \"Data, Science\"\n",
    "new_string = remove_character(my_string, 6)\n",
    "print(\"New string:\", new_string)\n"
   ]
  },
  {
   "cell_type": "code",
   "execution_count": 17,
   "id": "e8769eb8",
   "metadata": {},
   "outputs": [
    {
     "name": "stdout",
     "output_type": "stream",
     "text": [
      "Enter a String: Hello\n",
      "The Length of Hello is 5\n"
     ]
    }
   ],
   "source": [
    "#25) Find length of a string in python\n",
    "\n",
    "str=input(\"Enter a String: \")\n",
    "length=len(str)\n",
    "print(\"The Length of\",str,\"is\",length)"
   ]
  },
  {
   "cell_type": "code",
   "execution_count": 22,
   "id": "3234777a",
   "metadata": {},
   "outputs": [
    {
     "name": "stdout",
     "output_type": "stream",
     "text": [
      "Enter a String: Data Engineer\n",
      "aaEgne\n"
     ]
    }
   ],
   "source": [
    "#26) Python program to print even length words in a string\n",
    "\n",
    "str=input(\"Enter a String: \")\n",
    "new_str=str[1::2]\n",
    "print(new_str)"
   ]
  },
  {
   "cell_type": "code",
   "execution_count": 24,
   "id": "c59361a1",
   "metadata": {},
   "outputs": [
    {
     "name": "stdout",
     "output_type": "stream",
     "text": [
      "Size of the tuple: 5\n"
     ]
    }
   ],
   "source": [
    "#27) Python program to Find the size of a Tuple\n",
    "\n",
    "Mytuple = (6, 8, 2, 4, 5)\n",
    "size = len(Mytuple)\n",
    "print(\"Size of the tuple:\", size)\n"
   ]
  },
  {
   "cell_type": "code",
   "execution_count": 28,
   "id": "5d80ecf3",
   "metadata": {},
   "outputs": [
    {
     "name": "stdout",
     "output_type": "stream",
     "text": [
      "Maximum 4 elements: [7, 9, 10, 12]\n",
      "Minimum 4 elements: [1, 3, 4, 5]\n"
     ]
    }
   ],
   "source": [
    "#28) Python – Maximum and Minimum K elements in Tuple\n",
    "\n",
    "def to_find_max_and_min(Mytuple, k):\n",
    "    maximum = sorted(Mytuple)[-k:]\n",
    "    minimum = sorted(Mytuple)[:k]\n",
    "    return maximum, minimum\n",
    "\n",
    "Mytuple = (5,3,6,4,1,9,7,10,12)\n",
    "k = 4\n",
    "maximum, minimum = to_find_max_and_min(Mytuple, k)\n",
    "\n",
    "print(\"Maximum\", k, \"elements:\", maximum)\n",
    "print(\"Minimum\", k, \"elements:\", minimum )\n"
   ]
  },
  {
   "cell_type": "code",
   "execution_count": 29,
   "id": "97957a68",
   "metadata": {},
   "outputs": [
    {
     "name": "stdout",
     "output_type": "stream",
     "text": [
      "The Sum of Tuple Elements:  25\n"
     ]
    }
   ],
   "source": [
    "#29) Python – Sum of tuple elements\n",
    "\n",
    "Mytuple = (6, 8, 2, 4, 5)\n",
    "total=sum(Mytuple)\n",
    "print(\"The Sum of Tuple Elements: \",total)\n"
   ]
  },
  {
   "cell_type": "code",
   "execution_count": 37,
   "id": "983ad406",
   "metadata": {},
   "outputs": [
    {
     "name": "stdout",
     "output_type": "stream",
     "text": [
      "Row-wise element Total: [6, 15, 24]\n"
     ]
    }
   ],
   "source": [
    "#30) Python – Row-wise element Addition in Tuple Matrix\n",
    "\n",
    "def additionOfRows(matrix):\n",
    "    total = []\n",
    "    for row in matrix:\n",
    "        addition = sum(row)\n",
    "        total.append(addition)\n",
    "    return row_sums\n",
    "\n",
    "matrix = ((4,6,8), (2,5,1), (6,7,4))\n",
    "total = additionOfRows(matrix)\n",
    "\n",
    "print(\"Row-wise element Total:\", total)\n"
   ]
  },
  {
   "cell_type": "code",
   "execution_count": 1,
   "id": "b3f4a238",
   "metadata": {},
   "outputs": [
    {
     "name": "stdout",
     "output_type": "stream",
     "text": [
      "[(1, 1), (2, 8), (3, 27), (4, 64), (5, 125)]\n"
     ]
    }
   ],
   "source": [
    "#31)Create a list of tuples from given list having number and its cube in each tuple\n",
    "\n",
    "def create_cube_tuples(numbers):\n",
    "    cube_tuples = [(num, num ** 3) for num in numbers]\n",
    "    return cube_tuples\n",
    "\n",
    "# Example usage:\n",
    "original_list = [1, 2, 3, 4, 5]\n",
    "cube_list = create_cube_tuples(original_list)\n",
    "print(cube_list)\n"
   ]
  },
  {
   "cell_type": "code",
   "execution_count": 2,
   "id": "8cdf2e4d",
   "metadata": {},
   "outputs": [
    {
     "name": "stdout",
     "output_type": "stream",
     "text": [
      "{'a': 1, 'b': 2, 'c': 3}\n",
      "{'a': 1, 'b': 2, 'c': 3}\n"
     ]
    }
   ],
   "source": [
    "#32) Python | Sort Python Dictionaries by Key or Value \n",
    "\n",
    "mydict = {'b': 2, 'a': 1, 'c': 3}\n",
    "\n",
    "sorted_dict = dict(sorted(mydict.items()))\n",
    "print(sorted_dict)\n",
    "\n",
    "#using value\n",
    "\n",
    "mydict = {'b': 2, 'a': 1, 'c': 3}\n",
    "\n",
    "\n",
    "sorted_dict = dict(sorted(mydict.items(), key=lambda x: x[1]))\n",
    "print(sorted_dict)\n"
   ]
  },
  {
   "cell_type": "code",
   "execution_count": 3,
   "id": "8c5ef2bc",
   "metadata": {},
   "outputs": [
    {
     "name": "stdout",
     "output_type": "stream",
     "text": [
      "USA\n",
      "Canada\n"
     ]
    }
   ],
   "source": [
    "#33) Python dictionary with keys having multiple inputs\n",
    "\n",
    "my_dict = {('John', 25): 'USA', ('Emily', 32): 'Canada', ('David', 28): 'Australia'}\n",
    "\n",
    "\n",
    "print(my_dict[('John', 25)])  \n",
    "print(my_dict[('Emily', 32)])  \n"
   ]
  },
  {
   "cell_type": "code",
   "execution_count": 4,
   "id": "b5a7cf7c",
   "metadata": {},
   "outputs": [
    {
     "name": "stdout",
     "output_type": "stream",
     "text": [
      "Sum of all items: 60\n"
     ]
    }
   ],
   "source": [
    "#34) Python program to find the sum of all items in a dictionary\n",
    "\n",
    "my_dict = {'a': 10, 'b': 20, 'c': 30}\n",
    "\n",
    "\n",
    "total_sum = sum(my_dict.values())\n",
    "\n",
    "print(\"Sum of all items:\", total_sum)\n"
   ]
  },
  {
   "cell_type": "code",
   "execution_count": 5,
   "id": "796f69c5",
   "metadata": {},
   "outputs": [
    {
     "name": "stdout",
     "output_type": "stream",
     "text": [
      "Size of the dictionary: 184 bytes\n"
     ]
    }
   ],
   "source": [
    "#35) Python program to find the size of a Dictionary\n",
    "\n",
    "import sys\n",
    "\n",
    "my_dict = {'a': 10, 'b': 20, 'c': 30}\n",
    "\n",
    "\n",
    "dict_size = sys.getsizeof(my_dict)\n",
    "\n",
    "print(\"Size of the dictionary:\", dict_size, \"bytes\")\n"
   ]
  },
  {
   "cell_type": "code",
   "execution_count": 7,
   "id": "5fb76dc4",
   "metadata": {},
   "outputs": [
    {
     "name": "stdout",
     "output_type": "stream",
     "text": [
      "Size of the set: 216 bytes\n"
     ]
    }
   ],
   "source": [
    "#36) Find the size of a Set in Python\n",
    "\n",
    "import sys\n",
    "\n",
    "my_set = {'apple', 'banana', 'orange'}\n",
    "\n",
    "\n",
    "set_size = sys.getsizeof(my_set)\n",
    "\n",
    "print(\"Size of the set:\", set_size, \"bytes\")\n"
   ]
  },
  {
   "cell_type": "code",
   "execution_count": 8,
   "id": "644ba5cc",
   "metadata": {},
   "outputs": [
    {
     "name": "stdout",
     "output_type": "stream",
     "text": [
      "banana\n",
      "orange\n",
      "apple\n"
     ]
    }
   ],
   "source": [
    "#37) Iterate over a set in Python\n",
    "\n",
    "my_set = {'apple', 'banana', 'orange'}\n",
    "\n",
    "\n",
    "for item in my_set:\n",
    "    print(item)\n"
   ]
  },
  {
   "cell_type": "code",
   "execution_count": 9,
   "id": "a0dbe99f",
   "metadata": {},
   "outputs": [
    {
     "name": "stdout",
     "output_type": "stream",
     "text": [
      "Maximum value: 9\n",
      "Minimum value: 1\n"
     ]
    }
   ],
   "source": [
    "#38) Python – Maximum and Minimum in a Set \n",
    "\n",
    "my_set = {5, 2, 9, 1, 7}\n",
    "\n",
    "# Find the maximum value in the set\n",
    "maximum = max(my_set)\n",
    "print(\"Maximum value:\", maximum)\n",
    "\n",
    "# Find the minimum value in the set\n",
    "minimum = min(my_set)\n",
    "print(\"Minimum value:\", minimum)\n"
   ]
  },
  {
   "cell_type": "code",
   "execution_count": 10,
   "id": "22338462",
   "metadata": {},
   "outputs": [
    {
     "name": "stdout",
     "output_type": "stream",
     "text": [
      "{1, 2, 4, 5}\n",
      "{1, 2, 4}\n"
     ]
    }
   ],
   "source": [
    "#39) Python – Remove items from Set\n",
    "\n",
    "my_set = {1, 2, 3, 4, 5}\n",
    "\n",
    "# Remove an item using the remove() method\n",
    "my_set.remove(3)\n",
    "print(my_set)  \n",
    "\n",
    "# Remove an item using the discard() method\n",
    "my_set.discard(5)\n",
    "print(my_set)  \n"
   ]
  },
  {
   "cell_type": "code",
   "execution_count": 11,
   "id": "7da2c09e",
   "metadata": {},
   "outputs": [
    {
     "name": "stdout",
     "output_type": "stream",
     "text": [
      "The lists have at least one common element.\n"
     ]
    }
   ],
   "source": [
    "#40) Python – Check if two lists have atleast one element common\n",
    "\n",
    "def has_common_element(list1, list2):\n",
    "    set1 = set(list1)\n",
    "    set2 = set(list2)\n",
    "    common_elements = set1.intersection(set2)\n",
    "    return len(common_elements) > 0\n",
    "\n",
    "list1 = [1, 2, 3, 4, 5]\n",
    "list2 = [5, 6, 7, 8, 9]\n",
    "\n",
    "if has_common_element(list1, list2):\n",
    "    print(\"The lists have at least one common element.\")\n",
    "else:\n",
    "    print(\"The lists do not have any common element.\")\n"
   ]
  },
  {
   "cell_type": "code",
   "execution_count": 12,
   "id": "1a477a92",
   "metadata": {},
   "outputs": [
    {
     "name": "stdout",
     "output_type": "stream",
     "text": [
      "[[1, 2, 3], [1, 2, 3], [1, 2, 3]]\n"
     ]
    }
   ],
   "source": [
    "#41) Python – Assigning Subsequent Rows to Matrix first row elements\n",
    "\n",
    "matrix = [[1, 2, 3],\n",
    "          [4, 5, 6],\n",
    "          [7, 8, 9]]\n",
    "\n",
    "first_row = matrix[0]\n",
    "result = [first_row[:] for _ in range(len(matrix))]\n",
    "\n",
    "print(result)\n"
   ]
  },
  {
   "cell_type": "code",
   "execution_count": 17,
   "id": "140855bf",
   "metadata": {},
   "outputs": [
    {
     "name": "stdout",
     "output_type": "stream",
     "text": [
      "Matrix Addition:\n",
      "[10, 10, 10]\n",
      "[10, 10, 10]\n",
      "[10, 10, 10]\n",
      "Matrix Subtraction:\n",
      "[-8, -6, -4]\n",
      "[-2, 0, 2]\n",
      "[4, 6, 8]\n"
     ]
    }
   ],
   "source": [
    "#42) Adding and Subtracting Matrices in Python\n",
    "\n",
    "def add_matrices(matrix1, matrix2):\n",
    "    result = []\n",
    "    for i in range(len(matrix1)):\n",
    "        row = []\n",
    "        for j in range(len(matrix1[i])):\n",
    "            row.append(matrix1[i][j] + matrix2[i][j])\n",
    "        result.append(row)\n",
    "    return result\n",
    "\n",
    "def subtract_matrices(matrix1, matrix2):\n",
    "    result = []\n",
    "    for i in range(len(matrix1)):\n",
    "        row = []\n",
    "        for j in range(len(matrix1[i])):\n",
    "            row.append(matrix1[i][j] - matrix2[i][j])\n",
    "        result.append(row)\n",
    "    return result\n",
    "\n",
    "# Example usage:\n",
    "matrix1 = [[1, 2, 3],\n",
    "           [4, 5, 6],\n",
    "           [7, 8, 9]]\n",
    "\n",
    "matrix2 = [[9, 8, 7],\n",
    "           [6, 5, 4],\n",
    "           [3, 2, 1]]\n",
    "\n",
    "# Add matrices\n",
    "addition_result = add_matrices(matrix1, matrix2)\n",
    "print(\"Matrix Addition:\")\n",
    "for row in addition_result:\n",
    "    print(row)\n",
    "\n",
    "# Subtract matrices\n",
    "subtraction_result = subtract_matrices(matrix1, matrix2)\n",
    "print(\"Matrix Subtraction:\")\n",
    "for row in subtraction_result:\n",
    "    print(row)\n"
   ]
  },
  {
   "cell_type": "code",
   "execution_count": 18,
   "id": "41797a4b",
   "metadata": {},
   "outputs": [
    {
     "name": "stdout",
     "output_type": "stream",
     "text": [
      "[1, 2, 3, 4, None]\n",
      "['a', 'b', 'c', 'd', 'e']\n"
     ]
    }
   ],
   "source": [
    "#43) Python – Group similar elements into Matrix\n",
    "\n",
    "from collections import defaultdict\n",
    "\n",
    "def group_into_matrix(elements):\n",
    "    matrix = []\n",
    "    grouped_elements = defaultdict(list)\n",
    "    \n",
    "    for element in elements:\n",
    "        key = type(element)\n",
    "        grouped_elements[key].append(element)\n",
    "    \n",
    "    max_len = max(len(grouped_elements[key]) for key in grouped_elements)\n",
    "    \n",
    "    for key in grouped_elements:\n",
    "        matrix.append(grouped_elements[key] + [None] * (max_len - len(grouped_elements[key])))\n",
    "    \n",
    "    return matrix\n",
    "\n",
    "# Example usage:\n",
    "elements = [1, 'a', 2, 'b', 3, 'c', 4, 'd', 'e']\n",
    "\n",
    "result = group_into_matrix(elements)\n",
    "for row in result:\n",
    "    print(row)\n"
   ]
  },
  {
   "cell_type": "code",
   "execution_count": 19,
   "id": "5665ffd7",
   "metadata": {},
   "outputs": [
    {
     "name": "stdout",
     "output_type": "stream",
     "text": [
      "[6, 15, 24]\n"
     ]
    }
   ],
   "source": [
    "#44) Python – Row-wise element Addition in Tuple Matrix\n",
    "\n",
    "def row_wise_element_addition(matrix):\n",
    "    result = [sum(row) for row in matrix]\n",
    "    return result\n",
    "\n",
    "# Example usage:\n",
    "matrix = [(1, 2, 3),\n",
    "          (4, 5, 6),\n",
    "          (7, 8, 9)]\n",
    "\n",
    "result = row_wise_element_addition(matrix)\n",
    "print(result)\n"
   ]
  },
  {
   "cell_type": "code",
   "execution_count": 20,
   "id": "a652da48",
   "metadata": {},
   "outputs": [
    {
     "name": "stdout",
     "output_type": "stream",
     "text": [
      "[2, 1, 2, 1]\n",
      "[1, 2, 1, 2]\n",
      "[2, 1, 2, 1]\n",
      "[1, 2, 1, 2]\n"
     ]
    }
   ],
   "source": [
    "#45) Create an n x n square matrix, where all the sub-matrix has the sum of opposite corner elements as even\n",
    "\n",
    "\n",
    "\n",
    "def create_square_matrix(n):\n",
    "    matrix = [[0] * n for _ in range(n)]\n",
    "    \n",
    "    for i in range(0, n, 2):\n",
    "        for j in range(0, n, 2):\n",
    "            matrix[i][j] = 2\n",
    "            matrix[i][j + 1] = 1\n",
    "            matrix[i + 1][j] = 1\n",
    "            matrix[i + 1][j + 1] = 2\n",
    "    \n",
    "    return matrix\n",
    "\n",
    "# Example usage:\n",
    "n = 4\n",
    "matrix = create_square_matrix(n)\n",
    "\n",
    "# Print the matrix\n",
    "for row in matrix:\n",
    "    print(row)\n"
   ]
  },
  {
   "cell_type": "code",
   "execution_count": 21,
   "id": "de6db03f",
   "metadata": {},
   "outputs": [
    {
     "name": "stdout",
     "output_type": "stream",
     "text": [
      "['param1', 'param2', 'param3']\n"
     ]
    }
   ],
   "source": [
    "#46) How to get list of parameters name from a function in Python?\n",
    "\n",
    "import inspect\n",
    "\n",
    "def my_function(param1, param2, param3):\n",
    "    pass\n",
    "\n",
    "parameters = inspect.signature(my_function).parameters\n",
    "parameter_names = list(parameters.keys())\n",
    "\n",
    "print(parameter_names)\n"
   ]
  },
  {
   "cell_type": "code",
   "execution_count": 22,
   "id": "9ccbd839",
   "metadata": {},
   "outputs": [
    {
     "name": "stdout",
     "output_type": "stream",
     "text": [
      "Hello world 2023\n"
     ]
    }
   ],
   "source": [
    "#47) How to Print Multiple Arguments in Python?\n",
    "\n",
    "arg1 = \"Hello\"\n",
    "arg2 = \"world\"\n",
    "arg3 = 2023\n",
    "\n",
    "print(arg1, arg2, arg3)\n"
   ]
  },
  {
   "cell_type": "code",
   "execution_count": 23,
   "id": "5619fe68",
   "metadata": {},
   "outputs": [
    {
     "name": "stdout",
     "output_type": "stream",
     "text": [
      "2 raised to the power of 3 is: 8\n"
     ]
    }
   ],
   "source": [
    "#48) Python program to find the power of a number using recursion\n",
    "\n",
    "def power(base, exponent):\n",
    "    if exponent == 0:\n",
    "        return 1\n",
    "    else:\n",
    "        return base * power(base, exponent - 1)\n",
    "\n",
    "# Example usage:\n",
    "base = 2\n",
    "exponent = 3\n",
    "\n",
    "result = power(base, exponent)\n",
    "print(f\"{base} raised to the power of {exponent} is: {result}\")\n"
   ]
  },
  {
   "cell_type": "code",
   "execution_count": 24,
   "id": "b8135eef",
   "metadata": {},
   "outputs": [
    {
     "name": "stdout",
     "output_type": "stream",
     "text": [
      "1\n",
      "2\n",
      "3\n"
     ]
    }
   ],
   "source": [
    "#49) Sorting objects of user defined class in Python\n",
    "\n",
    "class MyClass:\n",
    "    def __init__(self, value):\n",
    "        self.value = value\n",
    "    \n",
    "    def __lt__(self, other):\n",
    "        return self.value < other.value\n",
    "\n",
    "# Example usage:\n",
    "obj1 = MyClass(3)\n",
    "obj2 = MyClass(1)\n",
    "obj3 = MyClass(2)\n",
    "\n",
    "my_objects = [obj1, obj2, obj3]\n",
    "\n",
    "sorted_objects = sorted(my_objects)\n",
    "\n",
    "for obj in sorted_objects:\n",
    "    print(obj.value)\n"
   ]
  },
  {
   "cell_type": "code",
   "execution_count": 25,
   "id": "e4abe0e9",
   "metadata": {},
   "outputs": [
    {
     "name": "stdout",
     "output_type": "stream",
     "text": [
      "name: John\n",
      "age: 30\n",
      "city: New York\n"
     ]
    }
   ],
   "source": [
    "#50) Functions that accept variable length key value pair as arguments\n",
    "\n",
    "def process_data(**kwargs):\n",
    "    for key, value in kwargs.items():\n",
    "        print(f\"{key}: {value}\")\n",
    "\n",
    "# Example usage:\n",
    "process_data(name=\"John\", age=30, city=\"New York\")\n"
   ]
  },
  {
   "cell_type": "code",
   "execution_count": null,
   "id": "b11099d0",
   "metadata": {},
   "outputs": [],
   "source": []
  }
 ],
 "metadata": {
  "kernelspec": {
   "display_name": "Python 3 (ipykernel)",
   "language": "python",
   "name": "python3"
  },
  "language_info": {
   "codemirror_mode": {
    "name": "ipython",
    "version": 3
   },
   "file_extension": ".py",
   "mimetype": "text/x-python",
   "name": "python",
   "nbconvert_exporter": "python",
   "pygments_lexer": "ipython3",
   "version": "3.11.3"
  }
 },
 "nbformat": 4,
 "nbformat_minor": 5
}
